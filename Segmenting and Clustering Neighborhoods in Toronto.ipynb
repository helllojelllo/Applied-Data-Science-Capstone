{
 "cells": [
  {
   "cell_type": "code",
   "execution_count": 2,
   "metadata": {},
   "outputs": [],
   "source": [
    "\n",
    "import pandas as pd\n",
    "import numpy as np\n",
    "from sklearn.cluster import KMeans\n",
    "import requests"
   ]
  },
  {
   "cell_type": "code",
   "execution_count": 5,
   "metadata": {},
   "outputs": [
    {
     "data": {
      "text/plain": [
       "<bound method NDFrame.head of                    Borough                                      Neighbourhood\n",
       "Postcode                                                                     \n",
       "M1B            Scarborough                                    Malvern / Rouge\n",
       "M1C            Scarborough           Rouge Hill / Port Union / Highland Creek\n",
       "M1E            Scarborough                Guildwood / Morningside / West Hill\n",
       "M1G            Scarborough                                             Woburn\n",
       "M1H            Scarborough                                          Cedarbrae\n",
       "M1J            Scarborough                                Scarborough Village\n",
       "M1K            Scarborough      Kennedy Park / Ionview / East Birchmount Park\n",
       "M1L            Scarborough                  Golden Mile / Clairlea / Oakridge\n",
       "M1M            Scarborough  Cliffside / Cliffcrest / Scarborough Village West\n",
       "M1N            Scarborough                       Birch Cliff / Cliffside West\n",
       "M1P            Scarborough  Dorset Park / Wexford Heights / Scarborough To...\n",
       "M1R            Scarborough                                 Wexford / Maryvale\n",
       "M1S            Scarborough                                          Agincourt\n",
       "M1T            Scarborough          Clarks Corners / Tam O'Shanter / Sullivan\n",
       "M1V            Scarborough  Milliken / Agincourt North / Steeles East / L'...\n",
       "M1W            Scarborough                     Steeles West / L'Amoreaux West\n",
       "M1X            Scarborough                                        Upper Rouge\n",
       "M2H             North York                                  Hillcrest Village\n",
       "M2J             North York                     Fairview / Henry Farm / Oriole\n",
       "M2K             North York                                    Bayview Village\n",
       "M2L             North York                          York Mills / Silver Hills\n",
       "M2M             North York                           Willowdale / Newtonbrook\n",
       "M2N             North York                                         Willowdale\n",
       "M2P             North York                                    York Mills West\n",
       "M2R             North York                                         Willowdale\n",
       "M3A             North York                                          Parkwoods\n",
       "M3B             North York                                          Don Mills\n",
       "M3C             North York                                          Don Mills\n",
       "M3H             North York  Bathurst Manor / Wilson Heights / Downsview North\n",
       "M3J             North York                   Northwood Park / York University\n",
       "...                    ...                                                ...\n",
       "M6C                   York                                 Humewood-Cedarvale\n",
       "M6E                   York                                Caledonia-Fairbanks\n",
       "M6G       Downtown Toronto                                           Christie\n",
       "M6H           West Toronto                      Dufferin / Dovercourt Village\n",
       "M6J           West Toronto                          Little Portugal / Trinity\n",
       "M6K           West Toronto     Brockton / Parkdale Village / Exhibition Place\n",
       "M6L             North York         North Park / Maple Leaf Park / Upwood Park\n",
       "M6M                   York  Del Ray / Mount Dennis / Keelsdale and Silvert...\n",
       "M6N                   York                     Runnymede / The Junction North\n",
       "M6P           West Toronto                     High Park / The Junction South\n",
       "M6R           West Toronto                            Parkdale / Roncesvalles\n",
       "M6S           West Toronto                                Runnymede / Swansea\n",
       "M7A       Downtown Toronto       Queen's Park / Ontario Provincial Government\n",
       "M7R            Mississauga              Canada Post Gateway Processing Centre\n",
       "M7Y           East Toronto              Business reply mail Processing Centre\n",
       "M8V              Etobicoke     New Toronto / Mimico South / Humber Bay Shores\n",
       "M8W              Etobicoke                            Alderwood / Long Branch\n",
       "M8X              Etobicoke    The Kingsway / Montgomery Road / Old Mill North\n",
       "M8Y              Etobicoke  Old Mill South / King's Mill Park / Sunnylea /...\n",
       "M8Z              Etobicoke  Mimico NW / The Queensway West / South of Bloo...\n",
       "M9A              Etobicoke                                   Islington Avenue\n",
       "M9B              Etobicoke  West Deane Park / Princess Gardens / Martin Gr...\n",
       "M9C              Etobicoke  Eringate / Bloordale Gardens / Old Burnhamthor...\n",
       "M9L             North York                                      Humber Summit\n",
       "M9M             North York                                  Humberlea / Emery\n",
       "M9N                   York                                             Weston\n",
       "M9P              Etobicoke                                          Westmount\n",
       "M9R              Etobicoke  Kingsview Village / St. Phillips / Martin Grov...\n",
       "M9V              Etobicoke  South Steeles / Silverstone / Humbergate / Jam...\n",
       "M9W              Etobicoke                                          Northwest\n",
       "\n",
       "[103 rows x 2 columns]>"
      ]
     },
     "execution_count": 5,
     "metadata": {},
     "output_type": "execute_result"
    }
   ],
   "source": [
    "url=\"https://en.wikipedia.org/wiki/List_of_postal_codes_of_Canada:_M\"\n",
    "header = {\n",
    "  \"User-Agent\": \"Mozilla/5.0 (X11; Linux x86_64) AppleWebKit/537.36 (KHTML, like Gecko) Chrome/50.0.2661.75 Safari/537.36\",\n",
    "  \"X-Requested-With\": \"XMLHttpRequest\"\n",
    "}\n",
    "\n",
    "r = requests.get(url, headers=header)\n",
    "\n",
    "tables = pd.read_html(r.text)\n",
    "\n",
    "df=pd.DataFrame(tables[0])\n",
    "\n",
    "# The dataframe will consist of three columns: PostalCode, Borough, and Neighborhood\n",
    "\n",
    "df.columns=['Postcode','Borough','Neighbourhood']\n",
    "\n",
    "df.drop([0],axis=0,inplace=True)\n",
    "\n",
    "df.reset_index()\n",
    "\n",
    "# Only process the cells that have an assigned borough. Ignore cells with a borough that is Not assigned.\n",
    "\n",
    "df.drop(df[df['Borough']==\"Not assigned\"].index,axis=0, inplace=True)\n",
    "\n",
    "# More than one neighborhood can exist in one postal code area. \n",
    "# For example, in the table on the Wikipedia page, \n",
    "# you will notice that M5A is listed twice and has two neighborhoods: \n",
    "# Harbourfront and Regent Park. These two rows will be combined into one row with the neighborhoods \n",
    "# separated with a comma as shown in row 11 in the above table.\n",
    "\n",
    "df1=df.groupby(\"Postcode\").agg(lambda x:','.join(set(x)))\n",
    "\n",
    "# If a cell has a borough but a Not assigned neighborhood, \n",
    "# then the neighborhood will be the same as the borough. \n",
    "# So for the 9th cell in the table on the Wikipedia page, \n",
    "# the value of the Borough and the Neighborhood columns will be Queen's Park.\n",
    "\n",
    "df1.loc[df1['Neighbourhood']==\"Not assigned\",'Neighbourhood']=df1.loc[df1['Neighbourhood']==\"Not assigned\",'Borough']\n",
    "\n",
    "df1.shape\n",
    "df1.head"
   ]
  },
  {
   "cell_type": "code",
   "execution_count": null,
   "metadata": {},
   "outputs": [],
   "source": []
  },
  {
   "cell_type": "code",
   "execution_count": null,
   "metadata": {},
   "outputs": [],
   "source": []
  },
  {
   "cell_type": "code",
   "execution_count": null,
   "metadata": {},
   "outputs": [],
   "source": []
  },
  {
   "cell_type": "code",
   "execution_count": null,
   "metadata": {},
   "outputs": [],
   "source": []
  },
  {
   "cell_type": "code",
   "execution_count": null,
   "metadata": {},
   "outputs": [],
   "source": []
  },
  {
   "cell_type": "code",
   "execution_count": null,
   "metadata": {},
   "outputs": [],
   "source": []
  },
  {
   "cell_type": "code",
   "execution_count": null,
   "metadata": {},
   "outputs": [],
   "source": [
    "\n"
   ]
  },
  {
   "cell_type": "code",
   "execution_count": null,
   "metadata": {},
   "outputs": [],
   "source": []
  },
  {
   "cell_type": "code",
   "execution_count": null,
   "metadata": {},
   "outputs": [],
   "source": []
  },
  {
   "cell_type": "code",
   "execution_count": null,
   "metadata": {},
   "outputs": [],
   "source": []
  }
 ],
 "metadata": {
  "kernelspec": {
   "display_name": "Python 3.6",
   "language": "python",
   "name": "python3"
  },
  "language_info": {
   "codemirror_mode": {
    "name": "ipython",
    "version": 3
   },
   "file_extension": ".py",
   "mimetype": "text/x-python",
   "name": "python",
   "nbconvert_exporter": "python",
   "pygments_lexer": "ipython3",
   "version": "3.6.9"
  }
 },
 "nbformat": 4,
 "nbformat_minor": 1
}
